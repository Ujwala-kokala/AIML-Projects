{
  "nbformat": 4,
  "nbformat_minor": 0,
  "metadata": {
    "colab": {
      "name": "SVHN project.ipynb",
      "provenance": []
    },
    "kernelspec": {
      "name": "python3",
      "display_name": "Python 3"
    }
  },
  "cells": [
    {
      "cell_type": "code",
      "metadata": {
        "id": "UNrvk4XlPka6",
        "colab_type": "code",
        "colab": {
          "base_uri": "https://localhost:8080/",
          "height": 34
        },
        "outputId": "411cc0bd-584a-450a-e9c7-83f42c6a403d"
      },
      "source": [
        "import tensorflow as tf\n",
        "print(tf.__version__)"
      ],
      "execution_count": 2,
      "outputs": [
        {
          "output_type": "stream",
          "text": [
            "2.3.0\n"
          ],
          "name": "stdout"
        }
      ]
    },
    {
      "cell_type": "code",
      "metadata": {
        "id": "yUl9ID5IPpku",
        "colab_type": "code",
        "colab": {
          "base_uri": "https://localhost:8080/",
          "height": 122
        },
        "outputId": "0f82046c-c99d-4ec5-db64-329b7f100394"
      },
      "source": [
        "from google.colab import drive\n",
        "drive.mount('/content/drive')"
      ],
      "execution_count": 3,
      "outputs": [
        {
          "output_type": "stream",
          "text": [
            "Go to this URL in a browser: https://accounts.google.com/o/oauth2/auth?client_id=947318989803-6bn6qk8qdgf4n4g3pfee6491hc0brc4i.apps.googleusercontent.com&redirect_uri=urn%3aietf%3awg%3aoauth%3a2.0%3aoob&scope=email%20https%3a%2f%2fwww.googleapis.com%2fauth%2fdocs.test%20https%3a%2f%2fwww.googleapis.com%2fauth%2fdrive%20https%3a%2f%2fwww.googleapis.com%2fauth%2fdrive.photos.readonly%20https%3a%2f%2fwww.googleapis.com%2fauth%2fpeopleapi.readonly&response_type=code\n",
            "\n",
            "Enter your authorization code:\n",
            "··········\n",
            "Mounted at /content/drive\n"
          ],
          "name": "stdout"
        }
      ]
    },
    {
      "cell_type": "code",
      "metadata": {
        "id": "YktiFCMWPsiK",
        "colab_type": "code",
        "colab": {}
      },
      "source": [
        "project_path = '/content/drive/My Drive/AIML/PROJECT/'"
      ],
      "execution_count": 4,
      "outputs": []
    },
    {
      "cell_type": "code",
      "metadata": {
        "id": "n9T-j2-TP5Bp",
        "colab_type": "code",
        "colab": {}
      },
      "source": [
        "import h5py\n",
        "\n",
        "# Open the file as readonly\n",
        "h5f = h5py.File(project_path + 'SVHN_single_grey1.h5', 'r')\n",
        "\n",
        "# Load the training, test and validation set\n",
        "X_train = h5f['X_train'][:]\n",
        "y_train = h5f['y_train'][:]\n",
        "X_test = h5f['X_test'][:]\n",
        "y_test = h5f['y_test'][:]\n",
        "# Close this file\n",
        "h5f.close()"
      ],
      "execution_count": 5,
      "outputs": []
    },
    {
      "cell_type": "code",
      "metadata": {
        "id": "uiaS2I7RP9lT",
        "colab_type": "code",
        "colab": {}
      },
      "source": [
        "# Ignore the warnings\n",
        "import warnings\n",
        "warnings.filterwarnings(\"ignore\")"
      ],
      "execution_count": 6,
      "outputs": []
    },
    {
      "cell_type": "code",
      "metadata": {
        "id": "i29pP9C8QDQr",
        "colab_type": "code",
        "colab": {
          "base_uri": "https://localhost:8080/",
          "height": 85
        },
        "outputId": "d119b5f2-7542-4e98-f5d8-0cff52e12a58"
      },
      "source": [
        "print(\"X_train shape:\", X_train.shape)\n",
        "print(\"y_train shape:\", y_train.shape)\n",
        "print(\"X_test shape:\", X_test.shape)\n",
        "print(\"y_test shape:\", y_test.shape)"
      ],
      "execution_count": 7,
      "outputs": [
        {
          "output_type": "stream",
          "text": [
            "X_train shape: (42000, 32, 32)\n",
            "y_train shape: (42000,)\n",
            "X_test shape: (18000, 32, 32)\n",
            "y_test shape: (18000,)\n"
          ],
          "name": "stdout"
        }
      ]
    },
    {
      "cell_type": "code",
      "metadata": {
        "id": "QBKGhkYARzAa",
        "colab_type": "code",
        "colab": {
          "base_uri": "https://localhost:8080/",
          "height": 283
        },
        "outputId": "746be670-e1ca-4111-c753-a06452410fb1"
      },
      "source": [
        "import matplotlib.pyplot as plt \n",
        "\n",
        "plt.imshow(X_train[100])    \n",
        "plt.show()\n",
        "print('Label: ', y_train[100])\n"
      ],
      "execution_count": 8,
      "outputs": [
        {
          "output_type": "display_data",
          "data": {
            "image/png": "[encoded data removed]",
            "text/plain": [
              "<Figure size 432x288 with 1 Axes>"
            ]
          },
          "metadata": {
            "tags": [],
            "needs_background": "light"
          }
        },
        {
          "output_type": "stream",
          "text": [
            "Label:  0\n"
          ],
          "name": "stdout"
        }
      ]
    },
    {
      "cell_type": "code",
      "metadata": {
        "id": "NIWJf7CYRzvL",
        "colab_type": "code",
        "colab": {
          "base_uri": "https://localhost:8080/",
          "height": 283
        },
        "outputId": "c339b067-f357-4a42-d357-f1c614289a1b"
      },
      "source": [
        "plt.imshow(X_test[10])    # show first number in the dataset\n",
        "plt.show()\n",
        "print('Label: ', y_test[10])"
      ],
      "execution_count": 9,
      "outputs": [
        {
          "output_type": "display_data",
          "data": {
            "image/png": "[encoded data removed]",
            "text/plain": [
              "<Figure size 432x288 with 1 Axes>"
            ]
          },
          "metadata": {
            "tags": [],
            "needs_background": "light"
          }
        },
        {
          "output_type": "stream",
          "text": [
            "Label:  8\n"
          ],
          "name": "stdout"
        }
      ]
    },
    {
      "cell_type": "code",
      "metadata": {
        "id": "ceXc7zCYQIEW",
        "colab_type": "code",
        "colab": {
          "base_uri": "https://localhost:8080/",
          "height": 51
        },
        "outputId": "6a8abdfa-b693-41e3-d788-9bde90db8c25"
      },
      "source": [
        "# reshaping X data: (n, 32, 32) => (n, 1024)\n",
        "X_train = X_train.reshape(42000,1024)\n",
        "print(X_train.shape)\n",
        "X_test = X_test.reshape(18000, 1024)\n",
        "print(X_test.shape)"
      ],
      "execution_count": 10,
      "outputs": [
        {
          "output_type": "stream",
          "text": [
            "(42000, 1024)\n",
            "(18000, 1024)\n"
          ],
          "name": "stdout"
        }
      ]
    },
    {
      "cell_type": "code",
      "metadata": {
        "id": "mQmkKbGjQUsB",
        "colab_type": "code",
        "colab": {}
      },
      "source": [
        "# # normalize inputs from 0-255 to 0-1\n",
        "X_train = X_train / 255.0\n",
        "X_test = X_test/ 255.0"
      ],
      "execution_count": 11,
      "outputs": []
    },
    {
      "cell_type": "code",
      "metadata": {
        "id": "fPuW6oZ5QaaB",
        "colab_type": "code",
        "colab": {}
      },
      "source": [
        "# converting y data into categorical (one-hot encoding)\n",
        "from tensorflow.keras.utils import to_categorical\n",
        "\n",
        "y_train = to_categorical(y_train, num_classes=10)\n",
        "y_test = to_categorical(y_test, num_classes=10)"
      ],
      "execution_count": 12,
      "outputs": []
    },
    {
      "cell_type": "code",
      "metadata": {
        "id": "E3tP_esmQgAk",
        "colab_type": "code",
        "colab": {
          "base_uri": "https://localhost:8080/",
          "height": 34
        },
        "outputId": "d996b080-ebd4-40db-fa0b-1fa3ecad9524"
      },
      "source": [
        "print(X_train.shape, X_test.shape, y_train.shape, y_test.shape)"
      ],
      "execution_count": 13,
      "outputs": [
        {
          "output_type": "stream",
          "text": [
            "(42000, 1024) (18000, 1024) (42000, 10) (18000, 10)\n"
          ],
          "name": "stdout"
        }
      ]
    },
    {
      "cell_type": "code",
      "metadata": {
        "id": "cUATd_ncQjxl",
        "colab_type": "code",
        "colab": {}
      },
      "source": [
        "from tensorflow.keras.models import Sequential\n",
        "from tensorflow.keras.layers import Activation, Dense\n",
        "from tensorflow.keras import optimizers"
      ],
      "execution_count": 14,
      "outputs": []
    },
    {
      "cell_type": "code",
      "metadata": {
        "id": "iXS0-0o_Qn_9",
        "colab_type": "code",
        "colab": {}
      },
      "source": [
        "model = Sequential()\n",
        "model.add(Dense(512, activation='relu', input_shape = (1024, )))"
      ],
      "execution_count": 16,
      "outputs": []
    },
    {
      "cell_type": "code",
      "metadata": {
        "id": "ysX2Y2DFQu_g",
        "colab_type": "code",
        "colab": {}
      },
      "source": [
        "#Add 1st hidden layer\n",
        "model.add(Dense(200, activation='relu'))\n",
        "#Add 2nd hidden layer\n",
        "model.add(Dense(100, activation='relu'))\n",
        "#Add 3rd hidden layer\n",
        "model.add(Dense(60, activation='relu'))\n",
        "#Add 4th hidden layer\n",
        "model.add(Dense(30, activation='relu'))\n",
        "#Add OUTPUT layer\n",
        "model.add(Dense(10, activation='softmax'))"
      ],
      "execution_count": 17,
      "outputs": []
    },
    {
      "cell_type": "code",
      "metadata": {
        "id": "tyLMhwTdRAna",
        "colab_type": "code",
        "colab": {}
      },
      "source": [
        "sgd = optimizers.SGD(lr = 0.01)\n",
        "model.compile(optimizer = sgd, loss = 'categorical_crossentropy', metrics = ['accuracy'])\n"
      ],
      "execution_count": 18,
      "outputs": []
    },
    {
      "cell_type": "code",
      "metadata": {
        "id": "BkOvka_WRL2V",
        "colab_type": "code",
        "colab": {
          "base_uri": "https://localhost:8080/",
          "height": 357
        },
        "outputId": "17b49fc4-f404-4232-d97d-ecd9e1c49475"
      },
      "source": [
        "history = model.fit(X_train, y_train, batch_size = 100, epochs = 10, validation_data=(X_test, y_test))"
      ],
      "execution_count": 19,
      "outputs": [
        {
          "output_type": "stream",
          "text": [
            "Epoch 1/10\n",
            "420/420 [==============================] - 5s 11ms/step - loss: 2.2956 - accuracy: 0.1213 - val_loss: 2.2831 - val_accuracy: 0.1726\n",
            "Epoch 2/10\n",
            "420/420 [==============================] - 5s 11ms/step - loss: 2.2651 - accuracy: 0.1883 - val_loss: 2.2375 - val_accuracy: 0.2536\n",
            "Epoch 3/10\n",
            "420/420 [==============================] - 5s 11ms/step - loss: 2.1919 - accuracy: 0.2633 - val_loss: 2.1180 - val_accuracy: 0.3101\n",
            "Epoch 4/10\n",
            "420/420 [==============================] - 5s 11ms/step - loss: 2.0268 - accuracy: 0.3160 - val_loss: 1.9482 - val_accuracy: 0.2999\n",
            "Epoch 5/10\n",
            "420/420 [==============================] - 5s 11ms/step - loss: 1.8326 - accuracy: 0.3728 - val_loss: 1.7111 - val_accuracy: 0.4072\n",
            "Epoch 6/10\n",
            "420/420 [==============================] - 5s 11ms/step - loss: 1.6365 - accuracy: 0.4474 - val_loss: 1.4896 - val_accuracy: 0.5006\n",
            "Epoch 7/10\n",
            "420/420 [==============================] - 5s 12ms/step - loss: 1.5120 - accuracy: 0.4939 - val_loss: 1.6498 - val_accuracy: 0.4312\n",
            "Epoch 8/10\n",
            "420/420 [==============================] - 5s 11ms/step - loss: 1.4323 - accuracy: 0.5262 - val_loss: 1.3104 - val_accuracy: 0.5847\n",
            "Epoch 9/10\n",
            "420/420 [==============================] - 5s 12ms/step - loss: 1.3655 - accuracy: 0.5544 - val_loss: 1.3747 - val_accuracy: 0.5352\n",
            "Epoch 10/10\n",
            "420/420 [==============================] - 5s 12ms/step - loss: 1.3138 - accuracy: 0.5722 - val_loss: 1.2043 - val_accuracy: 0.6170\n"
          ],
          "name": "stdout"
        }
      ]
    },
    {
      "cell_type": "code",
      "metadata": {
        "id": "f_ael91wRQC2",
        "colab_type": "code",
        "colab": {
          "base_uri": "https://localhost:8080/",
          "height": 34
        },
        "outputId": "7c834a8b-4e71-4b58-80a1-3fe94849ef9b"
      },
      "source": [
        "results = model.evaluate(X_test, y_test)"
      ],
      "execution_count": 20,
      "outputs": [
        {
          "output_type": "stream",
          "text": [
            "563/563 [==============================] - 1s 3ms/step - loss: 1.2043 - accuracy: 0.6170\n"
          ],
          "name": "stdout"
        }
      ]
    },
    {
      "cell_type": "code",
      "metadata": {
        "id": "TKQ6PdFyeUhM",
        "colab_type": "code",
        "colab": {
          "base_uri": "https://localhost:8080/",
          "height": 34
        },
        "outputId": "d9e87987-2709-4aa8-f35d-116862f31325"
      },
      "source": [
        "print('Test accuracy: ', results[1])"
      ],
      "execution_count": 21,
      "outputs": [
        {
          "output_type": "stream",
          "text": [
            "Test accuracy:  0.6169999837875366\n"
          ],
          "name": "stdout"
        }
      ]
    },
    {
      "cell_type": "code",
      "metadata": {
        "id": "kwuaSxnPrNbn",
        "colab_type": "code",
        "colab": {}
      },
      "source": [
        "#  By using 'sgd' optimizer Training accuracy is 57.22 after 10 epochs and test accuracy is 61.7."
      ],
      "execution_count": null,
      "outputs": []
    },
    {
      "cell_type": "code",
      "metadata": {
        "id": "h5rd_3v-qdwm",
        "colab_type": "code",
        "colab": {}
      },
      "source": [
        "model = Sequential()\n",
        "model.add(Dense(512, activation='relu', input_shape = (1024, )))\n",
        "\n",
        "#Add 1st hidden layer\n",
        "model.add(Dense(200, activation='relu'))\n",
        "#Add 2nd hidden layer\n",
        "model.add(Dense(100, activation='relu'))\n",
        "#Add 3rd hidden layer\n",
        "model.add(Dense(60, activation='relu'))\n",
        "#Add 4th hidden layer\n",
        "model.add(Dense(30, activation='relu'))\n",
        "#Add OUTPUT layer\n",
        "model.add(Dense(10, activation='softmax'))\n",
        "\n",
        "model.compile(optimizer = 'adam', loss = 'categorical_crossentropy', metrics = ['accuracy'])"
      ],
      "execution_count": 37,
      "outputs": []
    },
    {
      "cell_type": "code",
      "metadata": {
        "id": "2_XRVjkTq6ZR",
        "colab_type": "code",
        "colab": {
          "base_uri": "https://localhost:8080/",
          "height": 357
        },
        "outputId": "646fdd11-2876-4183-cccd-2f8fddcaadad"
      },
      "source": [
        "history = model.fit(X_train, y_train, batch_size = 100, epochs = 10, validation_data=(X_test, y_test))"
      ],
      "execution_count": 38,
      "outputs": [
        {
          "output_type": "stream",
          "text": [
            "Epoch 1/10\n",
            "420/420 [==============================] - 5s 13ms/step - loss: 2.3042 - accuracy: 0.1018 - val_loss: 2.3028 - val_accuracy: 0.0955\n",
            "Epoch 2/10\n",
            "420/420 [==============================] - 5s 12ms/step - loss: 2.3027 - accuracy: 0.1019 - val_loss: 2.3027 - val_accuracy: 0.0955\n",
            "Epoch 3/10\n",
            "420/420 [==============================] - 5s 12ms/step - loss: 2.3027 - accuracy: 0.1003 - val_loss: 2.3027 - val_accuracy: 0.0955\n",
            "Epoch 4/10\n",
            "420/420 [==============================] - 5s 12ms/step - loss: 2.3027 - accuracy: 0.1013 - val_loss: 2.3028 - val_accuracy: 0.0955\n",
            "Epoch 5/10\n",
            "420/420 [==============================] - 5s 12ms/step - loss: 2.3027 - accuracy: 0.1011 - val_loss: 2.3028 - val_accuracy: 0.0955\n",
            "Epoch 6/10\n",
            "420/420 [==============================] - 5s 13ms/step - loss: 2.3027 - accuracy: 0.1019 - val_loss: 2.3027 - val_accuracy: 0.0955\n",
            "Epoch 7/10\n",
            "420/420 [==============================] - 5s 12ms/step - loss: 2.3027 - accuracy: 0.1010 - val_loss: 2.3027 - val_accuracy: 0.0955\n",
            "Epoch 8/10\n",
            "420/420 [==============================] - 5s 12ms/step - loss: 2.3027 - accuracy: 0.1004 - val_loss: 2.3027 - val_accuracy: 0.0955\n",
            "Epoch 9/10\n",
            "420/420 [==============================] - 5s 12ms/step - loss: 2.3027 - accuracy: 0.0995 - val_loss: 2.3028 - val_accuracy: 0.0955\n",
            "Epoch 10/10\n",
            "420/420 [==============================] - 5s 12ms/step - loss: 2.3027 - accuracy: 0.1009 - val_loss: 2.3028 - val_accuracy: 0.0955\n"
          ],
          "name": "stdout"
        }
      ]
    },
    {
      "cell_type": "code",
      "metadata": {
        "id": "HeY_q_LgeYza",
        "colab_type": "code",
        "colab": {}
      },
      "source": [
        "# Adding Batch normalizing and dropout.\n",
        "\n",
        "from tensorflow.keras.layers import BatchNormalization, Dropout\n",
        "\n",
        "def mlp_model():\n",
        "    model = Sequential()\n",
        "    \n",
        "    model.add(Dense(50, input_shape = (1024, ), kernel_initializer='he_normal'))\n",
        "    model.add(BatchNormalization())\n",
        "    model.add(Activation('relu'))\n",
        "    model.add(Dropout(0.2))\n",
        "    model.add(Dense(50, kernel_initializer='he_normal'))\n",
        "    model.add(BatchNormalization())\n",
        "    model.add(Activation('relu'))    \n",
        "    model.add(Dropout(0.2))\n",
        "    model.add(Dense(50, kernel_initializer='he_normal'))\n",
        "    model.add(BatchNormalization())\n",
        "    model.add(Activation('relu'))\n",
        "    model.add(Dropout(0.2))\n",
        "    model.add(Dense(50, kernel_initializer='he_normal'))\n",
        "    model.add(BatchNormalization())\n",
        "    model.add(Activation('relu'))\n",
        "    model.add(Dropout(0.2))\n",
        "    model.add(Dense(10, kernel_initializer='he_normal'))\n",
        "    model.add(Activation('softmax'))\n",
        "  \n",
        "    \n",
        "    adam = optimizers.Adam(lr = 0.001)\n",
        "    model.compile(optimizer = adam, loss = 'categorical_crossentropy', metrics = ['accuracy'])\n",
        "    \n",
        "    return model"
      ],
      "execution_count": 23,
      "outputs": []
    },
    {
      "cell_type": "code",
      "metadata": {
        "id": "7OwqBRdzehc1",
        "colab_type": "code",
        "colab": {
          "base_uri": "https://localhost:8080/",
          "height": 697
        },
        "outputId": "62da2714-b280-4c16-d1c4-93aa5f276812"
      },
      "source": [
        "model = mlp_model()\n",
        "history = model.fit(X_train, y_train, batch_size = 100, epochs =20, verbose = 1)"
      ],
      "execution_count": 24,
      "outputs": [
        {
          "output_type": "stream",
          "text": [
            "Epoch 1/20\n",
            "420/420 [==============================] - 2s 4ms/step - loss: 2.3238 - accuracy: 0.1590\n",
            "Epoch 2/20\n",
            "420/420 [==============================] - 2s 4ms/step - loss: 1.8605 - accuracy: 0.3272\n",
            "Epoch 3/20\n",
            "420/420 [==============================] - 2s 4ms/step - loss: 1.6128 - accuracy: 0.4334\n",
            "Epoch 4/20\n",
            "420/420 [==============================] - 2s 4ms/step - loss: 1.4879 - accuracy: 0.4924\n",
            "Epoch 5/20\n",
            "420/420 [==============================] - 2s 4ms/step - loss: 1.4075 - accuracy: 0.5255\n",
            "Epoch 6/20\n",
            "420/420 [==============================] - 2s 4ms/step - loss: 1.3365 - accuracy: 0.5574\n",
            "Epoch 7/20\n",
            "420/420 [==============================] - 2s 4ms/step - loss: 1.2775 - accuracy: 0.5794\n",
            "Epoch 8/20\n",
            "420/420 [==============================] - 2s 4ms/step - loss: 1.2416 - accuracy: 0.5966\n",
            "Epoch 9/20\n",
            "420/420 [==============================] - 2s 4ms/step - loss: 1.2059 - accuracy: 0.6092\n",
            "Epoch 10/20\n",
            "420/420 [==============================] - 2s 4ms/step - loss: 1.1676 - accuracy: 0.6242\n",
            "Epoch 11/20\n",
            "420/420 [==============================] - 2s 4ms/step - loss: 1.1497 - accuracy: 0.6332\n",
            "Epoch 12/20\n",
            "420/420 [==============================] - 2s 4ms/step - loss: 1.1162 - accuracy: 0.6470\n",
            "Epoch 13/20\n",
            "420/420 [==============================] - 2s 4ms/step - loss: 1.1048 - accuracy: 0.6502\n",
            "Epoch 14/20\n",
            "420/420 [==============================] - 2s 4ms/step - loss: 1.0940 - accuracy: 0.6554\n",
            "Epoch 15/20\n",
            "420/420 [==============================] - 2s 4ms/step - loss: 1.0834 - accuracy: 0.6571\n",
            "Epoch 16/20\n",
            "420/420 [==============================] - 2s 4ms/step - loss: 1.0619 - accuracy: 0.6658\n",
            "Epoch 17/20\n",
            "420/420 [==============================] - 2s 4ms/step - loss: 1.0447 - accuracy: 0.6707\n",
            "Epoch 18/20\n",
            "420/420 [==============================] - 2s 4ms/step - loss: 1.0431 - accuracy: 0.6726\n",
            "Epoch 19/20\n",
            "420/420 [==============================] - 2s 4ms/step - loss: 1.0359 - accuracy: 0.6745\n",
            "Epoch 20/20\n",
            "420/420 [==============================] - 2s 4ms/step - loss: 1.0334 - accuracy: 0.6776\n"
          ],
          "name": "stdout"
        }
      ]
    },
    {
      "cell_type": "code",
      "metadata": {
        "id": "jDCkAzzfhFMT",
        "colab_type": "code",
        "colab": {
          "base_uri": "https://localhost:8080/",
          "height": 34
        },
        "outputId": "8b1ae08d-c89c-4bd3-b106-521206932875"
      },
      "source": [
        "results = model.evaluate(X_test, y_test)"
      ],
      "execution_count": 25,
      "outputs": [
        {
          "output_type": "stream",
          "text": [
            "563/563 [==============================] - 1s 1ms/step - loss: 0.9252 - accuracy: 0.7114\n"
          ],
          "name": "stdout"
        }
      ]
    },
    {
      "cell_type": "code",
      "metadata": {
        "id": "c6ES9AgnhH2s",
        "colab_type": "code",
        "colab": {
          "base_uri": "https://localhost:8080/",
          "height": 34
        },
        "outputId": "7871739b-f547-4e1c-97fb-f58f067f75ac"
      },
      "source": [
        "print('Test accuracy: ', results[1])"
      ],
      "execution_count": 26,
      "outputs": [
        {
          "output_type": "stream",
          "text": [
            "Test accuracy:  0.711388885974884\n"
          ],
          "name": "stdout"
        }
      ]
    },
    {
      "cell_type": "code",
      "metadata": {
        "id": "v-OFtGrtJuIA",
        "colab_type": "code",
        "colab": {}
      },
      "source": [
        "# Training accuracy is 67.7 after 20 epochs and testing accuracy is 71.1\n",
        "# By using 'sgd' optimizer accuracy is 61.7 \n",
        "# By using 'adam' optimizer accuracy raised to 71.1"
      ],
      "execution_count": null,
      "outputs": []
    },
    {
      "cell_type": "code",
      "metadata": {
        "id": "8njoS4bxhQaD",
        "colab_type": "code",
        "colab": {}
      },
      "source": [
        "from tensorflow.keras.layers import BatchNormalization, Dropout\n",
        "\n",
        "\n",
        "def mlp_model():\n",
        "    model = Sequential()\n",
        "    \n",
        "    model.add(Dense(1000, input_shape = (1024, ), kernel_initializer='he_normal'))\n",
        "    model.add(BatchNormalization())\n",
        "    model.add(Activation('relu'))\n",
        "    model.add(Dropout(0.3))\n",
        "    model.add(Dense(500, kernel_initializer='he_normal'))\n",
        "    model.add(BatchNormalization())\n",
        "    model.add(Activation('relu'))    \n",
        "    model.add(Dropout(0.3))\n",
        "    model.add(Dense(100, kernel_initializer='he_normal'))\n",
        "    model.add(BatchNormalization())\n",
        "    model.add(Activation('relu'))\n",
        "    model.add(Dropout(0.3))\n",
        "    model.add(Dense(50, kernel_initializer='he_normal'))\n",
        "    model.add(BatchNormalization())\n",
        "    model.add(Activation('relu'))\n",
        "    model.add(Dropout(0.3))\n",
        "    model.add(Dense(10, kernel_initializer='he_normal'))\n",
        "    model.add(Activation('softmax'))\n",
        "    \n",
        "    \n",
        "    adam = optimizers.Adam(lr = 0.001)\n",
        "    model.compile(optimizer = adam, loss = 'categorical_crossentropy', metrics = ['accuracy'])\n",
        "    \n",
        "    return model"
      ],
      "execution_count": 27,
      "outputs": []
    },
    {
      "cell_type": "code",
      "metadata": {
        "id": "vCltcglmJwcq",
        "colab_type": "code",
        "colab": {
          "base_uri": "https://localhost:8080/",
          "height": 697
        },
        "outputId": "2f15a7b0-c88a-4e75-daa7-5b7f4f9e3263"
      },
      "source": [
        "model = mlp_model()\n",
        "history = model.fit(X_train, y_train, batch_size = 100, epochs =20, verbose = 1)"
      ],
      "execution_count": 28,
      "outputs": [
        {
          "output_type": "stream",
          "text": [
            "Epoch 1/20\n",
            "420/420 [==============================] - 12s 28ms/step - loss: 1.9931 - accuracy: 0.2959\n",
            "Epoch 2/20\n",
            "420/420 [==============================] - 12s 28ms/step - loss: 1.3700 - accuracy: 0.5477\n",
            "Epoch 3/20\n",
            "420/420 [==============================] - 12s 28ms/step - loss: 1.1585 - accuracy: 0.6324\n",
            "Epoch 4/20\n",
            "420/420 [==============================] - 12s 28ms/step - loss: 1.0380 - accuracy: 0.6753\n",
            "Epoch 5/20\n",
            "420/420 [==============================] - 12s 28ms/step - loss: 0.9525 - accuracy: 0.7029\n",
            "Epoch 6/20\n",
            "420/420 [==============================] - 12s 28ms/step - loss: 0.8838 - accuracy: 0.7277\n",
            "Epoch 7/20\n",
            "420/420 [==============================] - 12s 28ms/step - loss: 0.8460 - accuracy: 0.7415\n",
            "Epoch 8/20\n",
            "420/420 [==============================] - 12s 28ms/step - loss: 0.8047 - accuracy: 0.7515\n",
            "Epoch 9/20\n",
            "420/420 [==============================] - 12s 28ms/step - loss: 0.7715 - accuracy: 0.7597\n",
            "Epoch 10/20\n",
            "420/420 [==============================] - 12s 28ms/step - loss: 0.7400 - accuracy: 0.7701\n",
            "Epoch 11/20\n",
            "420/420 [==============================] - 12s 28ms/step - loss: 0.7272 - accuracy: 0.7748\n",
            "Epoch 12/20\n",
            "420/420 [==============================] - 12s 28ms/step - loss: 0.6971 - accuracy: 0.7849\n",
            "Epoch 13/20\n",
            "420/420 [==============================] - 12s 28ms/step - loss: 0.6862 - accuracy: 0.7883\n",
            "Epoch 14/20\n",
            "420/420 [==============================] - 12s 28ms/step - loss: 0.6641 - accuracy: 0.7949\n",
            "Epoch 15/20\n",
            "420/420 [==============================] - 12s 28ms/step - loss: 0.6552 - accuracy: 0.7998\n",
            "Epoch 16/20\n",
            "420/420 [==============================] - 12s 29ms/step - loss: 0.6277 - accuracy: 0.8090\n",
            "Epoch 17/20\n",
            "420/420 [==============================] - 12s 28ms/step - loss: 0.6207 - accuracy: 0.8085\n",
            "Epoch 18/20\n",
            "420/420 [==============================] - 12s 28ms/step - loss: 0.6042 - accuracy: 0.8145\n",
            "Epoch 19/20\n",
            "420/420 [==============================] - 12s 28ms/step - loss: 0.6027 - accuracy: 0.8152\n",
            "Epoch 20/20\n",
            "420/420 [==============================] - 12s 28ms/step - loss: 0.5907 - accuracy: 0.8176\n"
          ],
          "name": "stdout"
        }
      ]
    },
    {
      "cell_type": "code",
      "metadata": {
        "id": "nZCUUsmZRT0X",
        "colab_type": "code",
        "colab": {
          "base_uri": "https://localhost:8080/",
          "height": 34
        },
        "outputId": "7932852b-ddd8-4c64-8f8a-7a76b30ea113"
      },
      "source": [
        "results = model.evaluate(X_test, y_test)"
      ],
      "execution_count": 29,
      "outputs": [
        {
          "output_type": "stream",
          "text": [
            "563/563 [==============================] - 3s 5ms/step - loss: 0.7833 - accuracy: 0.7546\n"
          ],
          "name": "stdout"
        }
      ]
    },
    {
      "cell_type": "code",
      "metadata": {
        "id": "COHGitqLRVPj",
        "colab_type": "code",
        "colab": {
          "base_uri": "https://localhost:8080/",
          "height": 34
        },
        "outputId": "a4257247-0ef1-44c0-f362-da909c29c5c8"
      },
      "source": [
        "print('Test accuracy: ', results[1])"
      ],
      "execution_count": 30,
      "outputs": [
        {
          "output_type": "stream",
          "text": [
            "Test accuracy:  0.7545555830001831\n"
          ],
          "name": "stdout"
        }
      ]
    },
    {
      "cell_type": "code",
      "metadata": {
        "id": "PuCXFcCmoQik",
        "colab_type": "code",
        "colab": {}
      },
      "source": [
        "# By using 'adam' optimizer with learning rate 0.001, batch size= 100, epochs =20, training accuracy raised to 81.7\n",
        "# Testing accuracy is raised to 75.46"
      ],
      "execution_count": null,
      "outputs": []
    },
    {
      "cell_type": "code",
      "metadata": {
        "id": "ATMHrfI7RbFn",
        "colab_type": "code",
        "colab": {
          "base_uri": "https://localhost:8080/",
          "height": 867
        },
        "outputId": "9da7f574-52bd-43ef-8283-57d21ff7f03f"
      },
      "source": [
        "model = mlp_model()\n",
        "history = model.fit(X_train, y_train, batch_size = 32, epochs =25, verbose = 1)"
      ],
      "execution_count": 31,
      "outputs": [
        {
          "output_type": "stream",
          "text": [
            "Epoch 1/25\n",
            "1313/1313 [==============================] - 21s 16ms/step - loss: 1.9593 - accuracy: 0.3033\n",
            "Epoch 2/25\n",
            "1313/1313 [==============================] - 21s 16ms/step - loss: 1.4483 - accuracy: 0.5172\n",
            "Epoch 3/25\n",
            "1313/1313 [==============================] - 21s 16ms/step - loss: 1.2710 - accuracy: 0.5947\n",
            "Epoch 4/25\n",
            "1313/1313 [==============================] - 21s 16ms/step - loss: 1.1450 - accuracy: 0.6387\n",
            "Epoch 5/25\n",
            "1313/1313 [==============================] - 21s 16ms/step - loss: 1.0642 - accuracy: 0.6678\n",
            "Epoch 6/25\n",
            "1313/1313 [==============================] - 21s 16ms/step - loss: 0.9971 - accuracy: 0.6920\n",
            "Epoch 7/25\n",
            "1313/1313 [==============================] - 21s 16ms/step - loss: 0.9536 - accuracy: 0.7037\n",
            "Epoch 8/25\n",
            "1313/1313 [==============================] - 21s 16ms/step - loss: 0.9181 - accuracy: 0.7145\n",
            "Epoch 9/25\n",
            "1313/1313 [==============================] - 21s 16ms/step - loss: 0.8830 - accuracy: 0.7263\n",
            "Epoch 10/25\n",
            "1313/1313 [==============================] - 21s 16ms/step - loss: 0.8592 - accuracy: 0.7353\n",
            "Epoch 11/25\n",
            "1313/1313 [==============================] - 21s 16ms/step - loss: 0.8306 - accuracy: 0.7448\n",
            "Epoch 12/25\n",
            "1313/1313 [==============================] - 22s 16ms/step - loss: 0.8122 - accuracy: 0.7483\n",
            "Epoch 13/25\n",
            "1313/1313 [==============================] - 22s 16ms/step - loss: 0.7859 - accuracy: 0.7558\n",
            "Epoch 14/25\n",
            "1313/1313 [==============================] - 21s 16ms/step - loss: 0.7788 - accuracy: 0.7577\n",
            "Epoch 15/25\n",
            "1313/1313 [==============================] - 22s 16ms/step - loss: 0.7591 - accuracy: 0.7645\n",
            "Epoch 16/25\n",
            "1313/1313 [==============================] - 21s 16ms/step - loss: 0.7535 - accuracy: 0.7663\n",
            "Epoch 17/25\n",
            "1313/1313 [==============================] - 21s 16ms/step - loss: 0.7388 - accuracy: 0.7724\n",
            "Epoch 18/25\n",
            "1313/1313 [==============================] - 22s 17ms/step - loss: 0.7261 - accuracy: 0.7754\n",
            "Epoch 19/25\n",
            "1313/1313 [==============================] - 21s 16ms/step - loss: 0.7134 - accuracy: 0.7801\n",
            "Epoch 20/25\n",
            "1313/1313 [==============================] - 22s 16ms/step - loss: 0.6995 - accuracy: 0.7820\n",
            "Epoch 21/25\n",
            "1313/1313 [==============================] - 21s 16ms/step - loss: 0.6879 - accuracy: 0.7881\n",
            "Epoch 22/25\n",
            "1313/1313 [==============================] - 22s 16ms/step - loss: 0.6852 - accuracy: 0.7884\n",
            "Epoch 23/25\n",
            "1313/1313 [==============================] - 22s 16ms/step - loss: 0.6773 - accuracy: 0.7906\n",
            "Epoch 24/25\n",
            "1313/1313 [==============================] - 21s 16ms/step - loss: 0.6717 - accuracy: 0.7931\n",
            "Epoch 25/25\n",
            "1313/1313 [==============================] - 21s 16ms/step - loss: 0.6651 - accuracy: 0.7938\n"
          ],
          "name": "stdout"
        }
      ]
    },
    {
      "cell_type": "code",
      "metadata": {
        "id": "Zy6dPJgaTC3o",
        "colab_type": "code",
        "colab": {
          "base_uri": "https://localhost:8080/",
          "height": 34
        },
        "outputId": "a8e4ec07-1e6c-4ea1-9b73-138523ed00c1"
      },
      "source": [
        "results = model.evaluate(X_test, y_test)"
      ],
      "execution_count": 32,
      "outputs": [
        {
          "output_type": "stream",
          "text": [
            "563/563 [==============================] - 3s 5ms/step - loss: 0.8485 - accuracy: 0.7307\n"
          ],
          "name": "stdout"
        }
      ]
    },
    {
      "cell_type": "code",
      "metadata": {
        "id": "ulEFyixaTFu_",
        "colab_type": "code",
        "colab": {
          "base_uri": "https://localhost:8080/",
          "height": 34
        },
        "outputId": "f787b45a-9ac2-46fb-923c-0ec685b6c11b"
      },
      "source": [
        "print('Test accuracy: ', results[1])"
      ],
      "execution_count": 33,
      "outputs": [
        {
          "output_type": "stream",
          "text": [
            "Test accuracy:  0.7306666374206543\n"
          ],
          "name": "stdout"
        }
      ]
    },
    {
      "cell_type": "code",
      "metadata": {
        "id": "-o94DyiioQZd",
        "colab_type": "code",
        "colab": {}
      },
      "source": [
        "# By using 'adam' optimizer with learning rate 0.001, batch size= 32, epochs =20, training accuracy reduced to 79.38\n",
        "# Testing accuracy is reduced to 73.07"
      ],
      "execution_count": null,
      "outputs": []
    },
    {
      "cell_type": "code",
      "metadata": {
        "id": "Iysv78pMVLRx",
        "colab_type": "code",
        "colab": {
          "base_uri": "https://localhost:8080/",
          "height": 1000
        },
        "outputId": "4d1b89aa-f9a2-4989-cd34-04d2a32e28ca"
      },
      "source": [
        "model = mlp_model()\n",
        "history = model.fit(X_train, y_train, batch_size = 100, epochs =50, verbose = 1)"
      ],
      "execution_count": 34,
      "outputs": [
        {
          "output_type": "stream",
          "text": [
            "Epoch 1/50\n",
            "420/420 [==============================] - 12s 28ms/step - loss: 2.0392 - accuracy: 0.2851\n",
            "Epoch 2/50\n",
            "420/420 [==============================] - 12s 28ms/step - loss: 1.3925 - accuracy: 0.5448\n",
            "Epoch 3/50\n",
            "420/420 [==============================] - 12s 28ms/step - loss: 1.1651 - accuracy: 0.6305\n",
            "Epoch 4/50\n",
            "420/420 [==============================] - 12s 29ms/step - loss: 1.0446 - accuracy: 0.6725\n",
            "Epoch 5/50\n",
            "420/420 [==============================] - 12s 28ms/step - loss: 0.9604 - accuracy: 0.7023\n",
            "Epoch 6/50\n",
            "420/420 [==============================] - 12s 28ms/step - loss: 0.8965 - accuracy: 0.7234\n",
            "Epoch 7/50\n",
            "420/420 [==============================] - 12s 29ms/step - loss: 0.8560 - accuracy: 0.7371\n",
            "Epoch 8/50\n",
            "420/420 [==============================] - 12s 29ms/step - loss: 0.8144 - accuracy: 0.7469\n",
            "Epoch 9/50\n",
            "420/420 [==============================] - 12s 29ms/step - loss: 0.7774 - accuracy: 0.7628\n",
            "Epoch 10/50\n",
            "420/420 [==============================] - 12s 29ms/step - loss: 0.7406 - accuracy: 0.7719\n",
            "Epoch 11/50\n",
            "420/420 [==============================] - 12s 28ms/step - loss: 0.7293 - accuracy: 0.7769\n",
            "Epoch 12/50\n",
            "420/420 [==============================] - 12s 28ms/step - loss: 0.7046 - accuracy: 0.7837\n",
            "Epoch 13/50\n",
            "420/420 [==============================] - 12s 28ms/step - loss: 0.6879 - accuracy: 0.7896\n",
            "Epoch 14/50\n",
            "420/420 [==============================] - 12s 28ms/step - loss: 0.6666 - accuracy: 0.7964\n",
            "Epoch 15/50\n",
            "420/420 [==============================] - 12s 28ms/step - loss: 0.6465 - accuracy: 0.8015\n",
            "Epoch 16/50\n",
            "420/420 [==============================] - 12s 28ms/step - loss: 0.6393 - accuracy: 0.8044\n",
            "Epoch 17/50\n",
            "420/420 [==============================] - 12s 28ms/step - loss: 0.6306 - accuracy: 0.8079\n",
            "Epoch 18/50\n",
            "420/420 [==============================] - 12s 28ms/step - loss: 0.6060 - accuracy: 0.8133\n",
            "Epoch 19/50\n",
            "420/420 [==============================] - 12s 28ms/step - loss: 0.5950 - accuracy: 0.8160\n",
            "Epoch 20/50\n",
            "420/420 [==============================] - 12s 28ms/step - loss: 0.5835 - accuracy: 0.8207\n",
            "Epoch 21/50\n",
            "420/420 [==============================] - 12s 28ms/step - loss: 0.5788 - accuracy: 0.8242\n",
            "Epoch 22/50\n",
            "420/420 [==============================] - 12s 28ms/step - loss: 0.5713 - accuracy: 0.8237\n",
            "Epoch 23/50\n",
            "420/420 [==============================] - 12s 28ms/step - loss: 0.5633 - accuracy: 0.8263\n",
            "Epoch 24/50\n",
            "420/420 [==============================] - 12s 28ms/step - loss: 0.5469 - accuracy: 0.8344\n",
            "Epoch 25/50\n",
            "420/420 [==============================] - 12s 28ms/step - loss: 0.5415 - accuracy: 0.8341\n",
            "Epoch 26/50\n",
            "420/420 [==============================] - 12s 28ms/step - loss: 0.5370 - accuracy: 0.8358\n",
            "Epoch 27/50\n",
            "420/420 [==============================] - 12s 28ms/step - loss: 0.5248 - accuracy: 0.8391\n",
            "Epoch 28/50\n",
            "420/420 [==============================] - 12s 28ms/step - loss: 0.5159 - accuracy: 0.8418\n",
            "Epoch 29/50\n",
            "420/420 [==============================] - 12s 28ms/step - loss: 0.5147 - accuracy: 0.8422\n",
            "Epoch 30/50\n",
            "420/420 [==============================] - 12s 28ms/step - loss: 0.5060 - accuracy: 0.8448\n",
            "Epoch 31/50\n",
            "420/420 [==============================] - 12s 28ms/step - loss: 0.5002 - accuracy: 0.8468\n",
            "Epoch 32/50\n",
            "420/420 [==============================] - 12s 28ms/step - loss: 0.4921 - accuracy: 0.8473\n",
            "Epoch 33/50\n",
            "420/420 [==============================] - 12s 28ms/step - loss: 0.4846 - accuracy: 0.8505\n",
            "Epoch 34/50\n",
            "420/420 [==============================] - 12s 29ms/step - loss: 0.4867 - accuracy: 0.8508\n",
            "Epoch 35/50\n",
            "420/420 [==============================] - 12s 29ms/step - loss: 0.4779 - accuracy: 0.8520\n",
            "Epoch 36/50\n",
            "420/420 [==============================] - 12s 28ms/step - loss: 0.4695 - accuracy: 0.8563\n",
            "Epoch 37/50\n",
            "420/420 [==============================] - 12s 28ms/step - loss: 0.4621 - accuracy: 0.8573\n",
            "Epoch 38/50\n",
            "420/420 [==============================] - 12s 28ms/step - loss: 0.4627 - accuracy: 0.8577\n",
            "Epoch 39/50\n",
            "420/420 [==============================] - 12s 28ms/step - loss: 0.4556 - accuracy: 0.8595\n",
            "Epoch 40/50\n",
            "420/420 [==============================] - 12s 28ms/step - loss: 0.4511 - accuracy: 0.8607\n",
            "Epoch 41/50\n",
            "420/420 [==============================] - 12s 28ms/step - loss: 0.4488 - accuracy: 0.8602\n",
            "Epoch 42/50\n",
            "420/420 [==============================] - 12s 28ms/step - loss: 0.4398 - accuracy: 0.8652\n",
            "Epoch 43/50\n",
            "420/420 [==============================] - 12s 28ms/step - loss: 0.4388 - accuracy: 0.8647\n",
            "Epoch 44/50\n",
            "420/420 [==============================] - 12s 28ms/step - loss: 0.4305 - accuracy: 0.8670\n",
            "Epoch 45/50\n",
            "420/420 [==============================] - 12s 28ms/step - loss: 0.4318 - accuracy: 0.8666\n",
            "Epoch 46/50\n",
            "420/420 [==============================] - 12s 28ms/step - loss: 0.4245 - accuracy: 0.8700\n",
            "Epoch 47/50\n",
            "420/420 [==============================] - 12s 28ms/step - loss: 0.4231 - accuracy: 0.8703\n",
            "Epoch 48/50\n",
            "420/420 [==============================] - 12s 28ms/step - loss: 0.4230 - accuracy: 0.8715\n",
            "Epoch 49/50\n",
            "420/420 [==============================] - 12s 28ms/step - loss: 0.4080 - accuracy: 0.8741\n",
            "Epoch 50/50\n",
            "420/420 [==============================] - 12s 28ms/step - loss: 0.4079 - accuracy: 0.8743\n"
          ],
          "name": "stdout"
        }
      ]
    },
    {
      "cell_type": "code",
      "metadata": {
        "id": "uJWQ-NluXsMz",
        "colab_type": "code",
        "colab": {
          "base_uri": "https://localhost:8080/",
          "height": 34
        },
        "outputId": "a66c23ac-3c31-4ea2-c91b-7edd02b6ada2"
      },
      "source": [
        "results = model.evaluate(X_test, y_test)"
      ],
      "execution_count": 35,
      "outputs": [
        {
          "output_type": "stream",
          "text": [
            "563/563 [==============================] - 3s 5ms/step - loss: 0.6841 - accuracy: 0.7906\n"
          ],
          "name": "stdout"
        }
      ]
    },
    {
      "cell_type": "code",
      "metadata": {
        "id": "IRiD_Cz4Xv24",
        "colab_type": "code",
        "colab": {
          "base_uri": "https://localhost:8080/",
          "height": 34
        },
        "outputId": "2fe88d75-55ef-48b9-f89f-b057ada1df61"
      },
      "source": [
        "print('Test accuracy: ', results[1])"
      ],
      "execution_count": 36,
      "outputs": [
        {
          "output_type": "stream",
          "text": [
            "Test accuracy:  0.7905555367469788\n"
          ],
          "name": "stdout"
        }
      ]
    },
    {
      "cell_type": "code",
      "metadata": {
        "id": "4hdchEahX2Q2",
        "colab_type": "code",
        "colab": {}
      },
      "source": [
        "# By using 'adam' optimizer with learning rate 0.001, batch size= 100, epochs =50, training accuracy raised to 87.43\n",
        "# Testing accuracy is raised to 79.06"
      ],
      "execution_count": null,
      "outputs": []
    },
    {
      "cell_type": "code",
      "metadata": {
        "id": "JLvNELJHse_J",
        "colab_type": "code",
        "colab": {}
      },
      "source": [
        ""
      ],
      "execution_count": null,
      "outputs": []
    }
  ]
}